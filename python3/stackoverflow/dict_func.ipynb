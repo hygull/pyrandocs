{
 "cells": [
  {
   "cell_type": "code",
   "execution_count": 10,
   "metadata": {},
   "outputs": [],
   "source": [
    "def print_message(d):\n",
    "    print(d[\"name\"] + ':')\n",
    "    \n",
    "    for grade, attendance in zip(d[\"grades\"], d[\"attendance\"]):\n",
    "        print(grade, attendance)"
   ]
  },
  {
   "cell_type": "code",
   "execution_count": 11,
   "metadata": {},
   "outputs": [],
   "source": [
    "kayleigh = {'name': 'Kayleigh',\n",
    "            'grades': [100, 80, 67, 100, 89],\n",
    "            'attendance': ['True', 'True', 'True', 'True', 'True']}"
   ]
  },
  {
   "cell_type": "code",
   "execution_count": 12,
   "metadata": {},
   "outputs": [
    {
     "name": "stdout",
     "output_type": "stream",
     "text": [
      "Kayleigh:\n",
      "100 True\n",
      "80 True\n",
      "67 True\n",
      "100 True\n",
      "89 True\n"
     ]
    }
   ],
   "source": [
    "print_message(kayleigh)"
   ]
  },
  {
   "cell_type": "code",
   "execution_count": 13,
   "metadata": {},
   "outputs": [],
   "source": [
    "# Example 2\n",
    "shay = {'name': 'Shay Remon',\n",
    "            'grades': [10, 90, 60, 11, 43],\n",
    "            'attendance': [False, True, True, True, False]}"
   ]
  },
  {
   "cell_type": "code",
   "execution_count": 14,
   "metadata": {},
   "outputs": [
    {
     "name": "stdout",
     "output_type": "stream",
     "text": [
      "Shay Remon:\n",
      "10 False\n",
      "90 True\n",
      "60 True\n",
      "11 True\n",
      "43 False\n"
     ]
    }
   ],
   "source": [
    "print_message(shay)"
   ]
  }
 ],
 "metadata": {
  "kernelspec": {
   "display_name": "Python 3",
   "language": "python",
   "name": "python3"
  },
  "language_info": {
   "codemirror_mode": {
    "name": "ipython",
    "version": 3
   },
   "file_extension": ".py",
   "mimetype": "text/x-python",
   "name": "python",
   "nbconvert_exporter": "python",
   "pygments_lexer": "ipython3",
   "version": "3.7.2"
  }
 },
 "nbformat": 4,
 "nbformat_minor": 2
}
