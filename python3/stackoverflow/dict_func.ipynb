{
 "cells": [
  {
   "cell_type": "markdown",
   "metadata": {},
   "source": [
    "This notebook is for [https://stackoverflow.com/questions/54604469/how-to-print-information-from-dictionary-in-format-error-messagedict-object/54605422#54605422](https://stackoverflow.com/questions/54604469/how-to-print-information-from-dictionary-in-format-error-messagedict-object/54605422#54605422)"
   ]
  },
  {
   "cell_type": "code",
   "execution_count": 15,
   "metadata": {},
   "outputs": [],
   "source": [
    "def print_message(d):\n",
    "    print(d[\"name\"] + ':')\n",
    "    \n",
    "    for attendance, grade in zip(d[\"attendance\"], d[\"grades\"]):\n",
    "        print(attendance, grade)"
   ]
  },
  {
   "cell_type": "code",
   "execution_count": 16,
   "metadata": {},
   "outputs": [],
   "source": [
    "kayleigh = {'name': 'Kayleigh',\n",
    "            'grades': [100, 80, 67, 100, 89],\n",
    "            'attendance': ['True', 'True', 'True', 'True', 'True']}"
   ]
  },
  {
   "cell_type": "code",
   "execution_count": 17,
   "metadata": {},
   "outputs": [
    {
     "name": "stdout",
     "output_type": "stream",
     "text": [
      "Kayleigh:\n",
      "True 100\n",
      "True 80\n",
      "True 67\n",
      "True 100\n",
      "True 89\n"
     ]
    }
   ],
   "source": [
    "print_message(kayleigh)"
   ]
  },
  {
   "cell_type": "code",
   "execution_count": 18,
   "metadata": {},
   "outputs": [],
   "source": [
    "# Example 2\n",
    "shay = {'name': 'Shay Remon',\n",
    "            'grades': [10, 90, 60, 11, 43],\n",
    "            'attendance': [False, True, True, True, False]}"
   ]
  },
  {
   "cell_type": "code",
   "execution_count": 19,
   "metadata": {},
   "outputs": [
    {
     "name": "stdout",
     "output_type": "stream",
     "text": [
      "Shay Remon:\n",
      "False 10\n",
      "True 90\n",
      "True 60\n",
      "True 11\n",
      "False 43\n"
     ]
    }
   ],
   "source": [
    "print_message(shay)"
   ]
  }
 ],
 "metadata": {
  "kernelspec": {
   "display_name": "Python 3",
   "language": "python",
   "name": "python3"
  },
  "language_info": {
   "codemirror_mode": {
    "name": "ipython",
    "version": 3
   },
   "file_extension": ".py",
   "mimetype": "text/x-python",
   "name": "python",
   "nbconvert_exporter": "python",
   "pygments_lexer": "ipython3",
   "version": "3.7.2"
  }
 },
 "nbformat": 4,
 "nbformat_minor": 2
}
